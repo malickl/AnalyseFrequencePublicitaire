{
  "cells": [
    {
      "cell_type": "code",
      "execution_count": 1,
      "metadata": {
        "id": "IwJJ8YrI0Wdq"
      },
      "outputs": [],
      "source": [
        "import pandas as pd\n",
        "import matplotlib.pyplot as plt\n",
        "import seaborn as sns\n",
        "from scipy import stats"
      ]
    },
    {
      "cell_type": "code",
      "execution_count": 2,
      "metadata": {
        "id": "5D2IvKC40kSU"
      },
      "outputs": [],
      "source": [
        "df = pd.read_csv('DataSet/Business_Case.csv')"
      ]
    },
    {
      "cell_type": "code",
      "execution_count": 3,
      "metadata": {
        "colab": {
          "base_uri": "https://localhost:8080/"
        },
        "id": "_aPQr3WUmdnK",
        "outputId": "4c34076a-5558-4d1e-908b-d4f9f753a114"
      },
      "outputs": [
        {
          "name": "stdout",
          "output_type": "stream",
          "text": [
            "<class 'pandas.core.frame.DataFrame'>\n",
            "RangeIndex: 372834 entries, 0 to 372833\n",
            "Data columns (total 18 columns):\n",
            " #   Column              Non-Null Count   Dtype  \n",
            "---  ------              --------------   -----  \n",
            " 0   session_id          372834 non-null  object \n",
            " 1   platform            372834 non-null  object \n",
            " 2   open_at             372834 non-null  object \n",
            " 3   user_id             372834 non-null  object \n",
            " 4   country             372832 non-null  object \n",
            " 5   ab_cohort_id        372834 non-null  int64  \n",
            " 6   segment_id          372834 non-null  int64  \n",
            " 7   session_length      372834 non-null  int64  \n",
            " 8   session_number_     372834 non-null  int64  \n",
            " 9   publisher_revenue   372834 non-null  float64\n",
            " 10  fs_shown            372834 non-null  int64  \n",
            " 11  rv_shown            372834 non-null  int64  \n",
            " 12  game_count          372834 non-null  int64  \n",
            " 13  offline_game_count  372834 non-null  int64  \n",
            " 14  acquired_at         372834 non-null  object \n",
            " 15  segment_name        372834 non-null  object \n",
            " 16  ab_name             372834 non-null  object \n",
            " 17  ab_cohort_name      372834 non-null  object \n",
            "dtypes: float64(1), int64(8), object(9)\n",
            "memory usage: 51.2+ MB\n"
          ]
        }
      ],
      "source": [
        "df.info()"
      ]
    },
    {
      "cell_type": "code",
      "execution_count": 4,
      "metadata": {
        "colab": {
          "base_uri": "https://localhost:8080/",
          "height": 178
        },
        "id": "E82n16zvBuQy",
        "outputId": "bf629662-97ba-4033-8519-3502f2e7e3cf"
      },
      "outputs": [
        {
          "data": {
            "text/plain": [
              "False    371926\n",
              "True        908\n",
              "Name: session_id, dtype: int64"
            ]
          },
          "execution_count": 4,
          "metadata": {},
          "output_type": "execute_result"
        }
      ],
      "source": [
        "df['session_id'].duplicated().value_counts()"
      ]
    },
    {
      "cell_type": "code",
      "execution_count": 5,
      "metadata": {
        "id": "PIdazavsYzDM"
      },
      "outputs": [],
      "source": [
        "# on drop les doublons\n",
        "df = df.drop_duplicates(subset=['session_id'])"
      ]
    },
    {
      "cell_type": "code",
      "execution_count": 6,
      "metadata": {
        "colab": {
          "base_uri": "https://localhost:8080/",
          "height": 147
        },
        "id": "V1l-tnfRCwJm",
        "outputId": "dc6ff71a-1f89-4f6c-9fda-63bd7fc233ef"
      },
      "outputs": [
        {
          "data": {
            "text/plain": [
              "False    371926\n",
              "Name: session_id, dtype: int64"
            ]
          },
          "execution_count": 6,
          "metadata": {},
          "output_type": "execute_result"
        }
      ],
      "source": [
        "df['session_id'].duplicated().value_counts()"
      ]
    },
    {
      "cell_type": "code",
      "execution_count": 7,
      "metadata": {
        "colab": {
          "base_uri": "https://localhost:8080/",
          "height": 469
        },
        "id": "jDd68FAa8yvJ",
        "outputId": "4b7aac2b-ad28-4e90-b799-7e7093c6c9bc"
      },
      "outputs": [
        {
          "data": {
            "text/html": [
              "<div>\n",
              "<style scoped>\n",
              "    .dataframe tbody tr th:only-of-type {\n",
              "        vertical-align: middle;\n",
              "    }\n",
              "\n",
              "    .dataframe tbody tr th {\n",
              "        vertical-align: top;\n",
              "    }\n",
              "\n",
              "    .dataframe thead th {\n",
              "        text-align: right;\n",
              "    }\n",
              "</style>\n",
              "<table border=\"1\" class=\"dataframe\">\n",
              "  <thead>\n",
              "    <tr style=\"text-align: right;\">\n",
              "      <th></th>\n",
              "      <th>session_id</th>\n",
              "      <th>platform</th>\n",
              "      <th>open_at</th>\n",
              "      <th>user_id</th>\n",
              "      <th>country</th>\n",
              "      <th>ab_cohort_id</th>\n",
              "      <th>segment_id</th>\n",
              "      <th>session_length</th>\n",
              "      <th>session_number_</th>\n",
              "      <th>publisher_revenue</th>\n",
              "      <th>fs_shown</th>\n",
              "      <th>rv_shown</th>\n",
              "      <th>game_count</th>\n",
              "      <th>offline_game_count</th>\n",
              "      <th>acquired_at</th>\n",
              "      <th>segment_name</th>\n",
              "      <th>ab_name</th>\n",
              "      <th>ab_cohort_name</th>\n",
              "    </tr>\n",
              "  </thead>\n",
              "  <tbody>\n",
              "    <tr>\n",
              "      <th>0</th>\n",
              "      <td>e058d9e3-ea0c-4d16-a36e-3e9ed3840457</td>\n",
              "      <td>android</td>\n",
              "      <td>2020-02-09 11:27:45.717000</td>\n",
              "      <td>3675ed02-ea35-4f01-8375-2ee48b06ac5c</td>\n",
              "      <td>TN</td>\n",
              "      <td>790</td>\n",
              "      <td>783</td>\n",
              "      <td>36</td>\n",
              "      <td>5</td>\n",
              "      <td>0.000010</td>\n",
              "      <td>0</td>\n",
              "      <td>0</td>\n",
              "      <td>1</td>\n",
              "      <td>0</td>\n",
              "      <td>2020-02-08 10:35:38.630000</td>\n",
              "      <td>android_new_users</td>\n",
              "      <td>ab-test_android</td>\n",
              "      <td>gameTune</td>\n",
              "    </tr>\n",
              "    <tr>\n",
              "      <th>1</th>\n",
              "      <td>6b9d2f3d-fe82-45fb-9c67-9408934393b1</td>\n",
              "      <td>android</td>\n",
              "      <td>2020-02-09 11:04:38.491000</td>\n",
              "      <td>3675ed02-ea35-4f01-8375-2ee48b06ac5c</td>\n",
              "      <td>TN</td>\n",
              "      <td>790</td>\n",
              "      <td>783</td>\n",
              "      <td>158</td>\n",
              "      <td>4</td>\n",
              "      <td>0.000110</td>\n",
              "      <td>1</td>\n",
              "      <td>0</td>\n",
              "      <td>1</td>\n",
              "      <td>0</td>\n",
              "      <td>2020-02-08 10:35:38.630000</td>\n",
              "      <td>android_new_users</td>\n",
              "      <td>ab-test_android</td>\n",
              "      <td>gameTune</td>\n",
              "    </tr>\n",
              "    <tr>\n",
              "      <th>2</th>\n",
              "      <td>bdf0bb00-9241-4e2a-969b-c55267befa76</td>\n",
              "      <td>android</td>\n",
              "      <td>2020-02-09 10:59:48.496000</td>\n",
              "      <td>3675ed02-ea35-4f01-8375-2ee48b06ac5c</td>\n",
              "      <td>TN</td>\n",
              "      <td>790</td>\n",
              "      <td>783</td>\n",
              "      <td>90</td>\n",
              "      <td>3</td>\n",
              "      <td>0.000020</td>\n",
              "      <td>1</td>\n",
              "      <td>0</td>\n",
              "      <td>0</td>\n",
              "      <td>0</td>\n",
              "      <td>2020-02-08 10:35:38.630000</td>\n",
              "      <td>android_new_users</td>\n",
              "      <td>ab-test_android</td>\n",
              "      <td>gameTune</td>\n",
              "    </tr>\n",
              "    <tr>\n",
              "      <th>3</th>\n",
              "      <td>79ea0b6c-ea19-480d-b6b4-60acbef70241</td>\n",
              "      <td>android</td>\n",
              "      <td>2020-02-05 12:15:02.907000</td>\n",
              "      <td>51ea5d8d-9b28-4111-ab23-40961dc43321</td>\n",
              "      <td>AE</td>\n",
              "      <td>789</td>\n",
              "      <td>783</td>\n",
              "      <td>517</td>\n",
              "      <td>1</td>\n",
              "      <td>0.055515</td>\n",
              "      <td>7</td>\n",
              "      <td>0</td>\n",
              "      <td>4</td>\n",
              "      <td>0</td>\n",
              "      <td>2020-02-05 12:15:02.907000</td>\n",
              "      <td>android_new_users</td>\n",
              "      <td>ab-test_android</td>\n",
              "      <td>xxHigh</td>\n",
              "    </tr>\n",
              "    <tr>\n",
              "      <th>4</th>\n",
              "      <td>f5f1f67f-ac44-45ba-9650-07b8081d897f</td>\n",
              "      <td>android</td>\n",
              "      <td>2020-02-07 06:03:13.014000</td>\n",
              "      <td>ecfbf8db-300f-4ceb-a533-47d9bf0c9fc7</td>\n",
              "      <td>AE</td>\n",
              "      <td>790</td>\n",
              "      <td>783</td>\n",
              "      <td>385</td>\n",
              "      <td>1</td>\n",
              "      <td>0.014300</td>\n",
              "      <td>2</td>\n",
              "      <td>0</td>\n",
              "      <td>5</td>\n",
              "      <td>0</td>\n",
              "      <td>2020-02-07 06:03:13.014000</td>\n",
              "      <td>android_new_users</td>\n",
              "      <td>ab-test_android</td>\n",
              "      <td>gameTune</td>\n",
              "    </tr>\n",
              "  </tbody>\n",
              "</table>\n",
              "</div>"
            ],
            "text/plain": [
              "                             session_id platform                     open_at  \\\n",
              "0  e058d9e3-ea0c-4d16-a36e-3e9ed3840457  android  2020-02-09 11:27:45.717000   \n",
              "1  6b9d2f3d-fe82-45fb-9c67-9408934393b1  android  2020-02-09 11:04:38.491000   \n",
              "2  bdf0bb00-9241-4e2a-969b-c55267befa76  android  2020-02-09 10:59:48.496000   \n",
              "3  79ea0b6c-ea19-480d-b6b4-60acbef70241  android  2020-02-05 12:15:02.907000   \n",
              "4  f5f1f67f-ac44-45ba-9650-07b8081d897f  android  2020-02-07 06:03:13.014000   \n",
              "\n",
              "                                user_id country  ab_cohort_id  segment_id  \\\n",
              "0  3675ed02-ea35-4f01-8375-2ee48b06ac5c      TN           790         783   \n",
              "1  3675ed02-ea35-4f01-8375-2ee48b06ac5c      TN           790         783   \n",
              "2  3675ed02-ea35-4f01-8375-2ee48b06ac5c      TN           790         783   \n",
              "3  51ea5d8d-9b28-4111-ab23-40961dc43321      AE           789         783   \n",
              "4  ecfbf8db-300f-4ceb-a533-47d9bf0c9fc7      AE           790         783   \n",
              "\n",
              "   session_length  session_number_  publisher_revenue  fs_shown  rv_shown  \\\n",
              "0              36                5           0.000010         0         0   \n",
              "1             158                4           0.000110         1         0   \n",
              "2              90                3           0.000020         1         0   \n",
              "3             517                1           0.055515         7         0   \n",
              "4             385                1           0.014300         2         0   \n",
              "\n",
              "   game_count  offline_game_count                 acquired_at  \\\n",
              "0           1                   0  2020-02-08 10:35:38.630000   \n",
              "1           1                   0  2020-02-08 10:35:38.630000   \n",
              "2           0                   0  2020-02-08 10:35:38.630000   \n",
              "3           4                   0  2020-02-05 12:15:02.907000   \n",
              "4           5                   0  2020-02-07 06:03:13.014000   \n",
              "\n",
              "        segment_name          ab_name ab_cohort_name  \n",
              "0  android_new_users  ab-test_android       gameTune  \n",
              "1  android_new_users  ab-test_android       gameTune  \n",
              "2  android_new_users  ab-test_android       gameTune  \n",
              "3  android_new_users  ab-test_android         xxHigh  \n",
              "4  android_new_users  ab-test_android       gameTune  "
            ]
          },
          "execution_count": 7,
          "metadata": {},
          "output_type": "execute_result"
        }
      ],
      "source": [
        "df.head()"
      ]
    },
    {
      "cell_type": "code",
      "execution_count": 8,
      "metadata": {
        "id": "93RLlb2-_HUv"
      },
      "outputs": [],
      "source": [
        "df_filtrer = df.copy()"
      ]
    },
    {
      "cell_type": "code",
      "execution_count": 9,
      "metadata": {
        "id": "LogVPLUCFhoV"
      },
      "outputs": [],
      "source": [
        "# on drop les colonnes inutile a notre analyse, on sectionne seulement les métriques pertinentes selon nous pour notre analyse\n",
        "liste_delete = ['session_id','ab_cohort_id','segment_id','segment_name', 'acquired_at','ab_name','fs_shown','rv_shown','game_count','offline_game_count','session_number_','user_id','open_at']\n",
        "df_filtrer.drop(liste_delete, axis=1, inplace=True)"
      ]
    },
    {
      "cell_type": "code",
      "execution_count": 10,
      "metadata": {
        "colab": {
          "base_uri": "https://localhost:8080/",
          "height": 206
        },
        "id": "PE-gNOHFFioG",
        "outputId": "f8bac1e4-5d9f-4532-ecdb-f1b3c46d8779"
      },
      "outputs": [
        {
          "data": {
            "text/html": [
              "<div>\n",
              "<style scoped>\n",
              "    .dataframe tbody tr th:only-of-type {\n",
              "        vertical-align: middle;\n",
              "    }\n",
              "\n",
              "    .dataframe tbody tr th {\n",
              "        vertical-align: top;\n",
              "    }\n",
              "\n",
              "    .dataframe thead th {\n",
              "        text-align: right;\n",
              "    }\n",
              "</style>\n",
              "<table border=\"1\" class=\"dataframe\">\n",
              "  <thead>\n",
              "    <tr style=\"text-align: right;\">\n",
              "      <th></th>\n",
              "      <th>platform</th>\n",
              "      <th>country</th>\n",
              "      <th>session_length</th>\n",
              "      <th>publisher_revenue</th>\n",
              "      <th>ab_cohort_name</th>\n",
              "    </tr>\n",
              "  </thead>\n",
              "  <tbody>\n",
              "    <tr>\n",
              "      <th>0</th>\n",
              "      <td>android</td>\n",
              "      <td>TN</td>\n",
              "      <td>36</td>\n",
              "      <td>0.000010</td>\n",
              "      <td>gameTune</td>\n",
              "    </tr>\n",
              "    <tr>\n",
              "      <th>1</th>\n",
              "      <td>android</td>\n",
              "      <td>TN</td>\n",
              "      <td>158</td>\n",
              "      <td>0.000110</td>\n",
              "      <td>gameTune</td>\n",
              "    </tr>\n",
              "    <tr>\n",
              "      <th>2</th>\n",
              "      <td>android</td>\n",
              "      <td>TN</td>\n",
              "      <td>90</td>\n",
              "      <td>0.000020</td>\n",
              "      <td>gameTune</td>\n",
              "    </tr>\n",
              "    <tr>\n",
              "      <th>3</th>\n",
              "      <td>android</td>\n",
              "      <td>AE</td>\n",
              "      <td>517</td>\n",
              "      <td>0.055515</td>\n",
              "      <td>xxHigh</td>\n",
              "    </tr>\n",
              "    <tr>\n",
              "      <th>4</th>\n",
              "      <td>android</td>\n",
              "      <td>AE</td>\n",
              "      <td>385</td>\n",
              "      <td>0.014300</td>\n",
              "      <td>gameTune</td>\n",
              "    </tr>\n",
              "  </tbody>\n",
              "</table>\n",
              "</div>"
            ],
            "text/plain": [
              "  platform country  session_length  publisher_revenue ab_cohort_name\n",
              "0  android      TN              36           0.000010       gameTune\n",
              "1  android      TN             158           0.000110       gameTune\n",
              "2  android      TN              90           0.000020       gameTune\n",
              "3  android      AE             517           0.055515         xxHigh\n",
              "4  android      AE             385           0.014300       gameTune"
            ]
          },
          "execution_count": 10,
          "metadata": {},
          "output_type": "execute_result"
        }
      ],
      "source": [
        "df_filtrer.head()"
      ]
    },
    {
      "cell_type": "code",
      "execution_count": 11,
      "metadata": {
        "colab": {
          "base_uri": "https://localhost:8080/",
          "height": 300
        },
        "id": "qYMMuvgSI4tJ",
        "outputId": "15b93dec-e179-4635-c4ed-9acec7059c75"
      },
      "outputs": [
        {
          "data": {
            "text/html": [
              "<div>\n",
              "<style scoped>\n",
              "    .dataframe tbody tr th:only-of-type {\n",
              "        vertical-align: middle;\n",
              "    }\n",
              "\n",
              "    .dataframe tbody tr th {\n",
              "        vertical-align: top;\n",
              "    }\n",
              "\n",
              "    .dataframe thead th {\n",
              "        text-align: right;\n",
              "    }\n",
              "</style>\n",
              "<table border=\"1\" class=\"dataframe\">\n",
              "  <thead>\n",
              "    <tr style=\"text-align: right;\">\n",
              "      <th></th>\n",
              "      <th>session_length</th>\n",
              "      <th>publisher_revenue</th>\n",
              "    </tr>\n",
              "  </thead>\n",
              "  <tbody>\n",
              "    <tr>\n",
              "      <th>count</th>\n",
              "      <td>371926.000000</td>\n",
              "      <td>371926.000000</td>\n",
              "    </tr>\n",
              "    <tr>\n",
              "      <th>mean</th>\n",
              "      <td>343.111987</td>\n",
              "      <td>0.037649</td>\n",
              "    </tr>\n",
              "    <tr>\n",
              "      <th>std</th>\n",
              "      <td>428.274068</td>\n",
              "      <td>0.059512</td>\n",
              "    </tr>\n",
              "    <tr>\n",
              "      <th>min</th>\n",
              "      <td>0.000000</td>\n",
              "      <td>0.000000</td>\n",
              "    </tr>\n",
              "    <tr>\n",
              "      <th>25%</th>\n",
              "      <td>73.000000</td>\n",
              "      <td>0.001890</td>\n",
              "    </tr>\n",
              "    <tr>\n",
              "      <th>50%</th>\n",
              "      <td>200.000000</td>\n",
              "      <td>0.016980</td>\n",
              "    </tr>\n",
              "    <tr>\n",
              "      <th>75%</th>\n",
              "      <td>462.000000</td>\n",
              "      <td>0.049339</td>\n",
              "    </tr>\n",
              "    <tr>\n",
              "      <th>max</th>\n",
              "      <td>41561.000000</td>\n",
              "      <td>2.891824</td>\n",
              "    </tr>\n",
              "  </tbody>\n",
              "</table>\n",
              "</div>"
            ],
            "text/plain": [
              "       session_length  publisher_revenue\n",
              "count   371926.000000      371926.000000\n",
              "mean       343.111987           0.037649\n",
              "std        428.274068           0.059512\n",
              "min          0.000000           0.000000\n",
              "25%         73.000000           0.001890\n",
              "50%        200.000000           0.016980\n",
              "75%        462.000000           0.049339\n",
              "max      41561.000000           2.891824"
            ]
          },
          "execution_count": 11,
          "metadata": {},
          "output_type": "execute_result"
        }
      ],
      "source": [
        "df_filtrer.describe()"
      ]
    },
    {
      "cell_type": "markdown",
      "metadata": {
        "id": "YZW0IrxBI9aj"
      },
      "source": [
        "Nettoyons le DataSet, après la suppressions de doublons, voyons la distribution et les valeurs aberrante"
      ]
    },
    {
      "cell_type": "markdown",
      "metadata": {
        "id": "ZmzCQPUaJK8K"
      },
      "source": [
        "voyons voir si nos variables numérique suivent une distributions normales"
      ]
    },
    {
      "cell_type": "code",
      "execution_count": 12,
      "metadata": {
        "colab": {
          "base_uri": "https://localhost:8080/",
          "height": 1000
        },
        "id": "XzulHj-8JkYS",
        "outputId": "b83de26b-a4b3-4838-9742-4b022ab88038"
      },
      "outputs": [
        {
          "data": {
            "image/png": "[encoded data removed]",
            "text/plain": [
              "<Figure size 800x500 with 1 Axes>"
            ]
          },
          "metadata": {},
          "output_type": "display_data"
        },
        {
          "name": "stdout",
          "output_type": "stream",
          "text": [
            "\n",
            "\n"
          ]
        },
        {
          "data": {
            "image/png": "[encoded data removed]",
            "text/plain": [
              "<Figure size 800x500 with 1 Axes>"
            ]
          },
          "metadata": {},
          "output_type": "display_data"
        },
        {
          "name": "stdout",
          "output_type": "stream",
          "text": [
            "\n",
            "\n"
          ]
        }
      ],
      "source": [
        "liste_colonne = ['session_length','publisher_revenue']\n",
        "for colonne in liste_colonne:\n",
        "    plt.figure(figsize=(8, 5))\n",
        "    stats.probplot(df_filtrer[colonne], dist=\"norm\", plot=plt)\n",
        "    plt.title(f\"Graphique Q-Q {colonne}\")\n",
        "    plt.show()\n",
        "    print('\\n')"
      ]
    },
    {
      "cell_type": "code",
      "execution_count": 13,
      "metadata": {
        "colab": {
          "base_uri": "https://localhost:8080/"
        },
        "id": "IszGzL0UI4fb",
        "outputId": "dc30e31a-15ba-4251-e0d2-9b348494c191"
      },
      "outputs": [
        {
          "name": "stdout",
          "output_type": "stream",
          "text": [
            "session_length\n",
            "Statistique K-S: 0.9519418858178453 \n",
            "P-value: 0.0\n",
            "Rejet de l'hypothèse de normalité\n",
            "\n",
            "\n",
            "publisher_revenue\n",
            "Statistique K-S: 0.5 \n",
            "P-value: 0.0\n",
            "Rejet de l'hypothèse de normalité\n",
            "\n",
            "\n"
          ]
        }
      ],
      "source": [
        "# Test de Kolmogorov-Smirnov\n",
        "for colonne in liste_colonne:\n",
        "\n",
        "  statistic, p_value = stats.kstest(df[colonne], 'norm')\n",
        "\n",
        "  print(f'{colonne}\\nStatistique K-S: {statistic} \\nP-value: {p_value}')\n",
        "\n",
        "  if p_value < 0.05:\n",
        "      print(\"Rejet de l'hypothèse de normalité\")\n",
        "  else:\n",
        "      print(\"Les données suivent une distribution normale\")\n",
        "  print('\\n')"
      ]
    },
    {
      "cell_type": "markdown",
      "metadata": {
        "id": "ppVTUaA3LKvd"
      },
      "source": [
        "Voyons voir les valeurs aberrante"
      ]
    },
    {
      "cell_type": "code",
      "execution_count": 14,
      "metadata": {
        "colab": {
          "base_uri": "https://localhost:8080/",
          "height": 952
        },
        "id": "jIKnpAmwI4bA",
        "outputId": "ca4ef42a-ccbe-40e5-a682-83bd1e897da1"
      },
      "outputs": [
        {
          "data": {
            "image/png": "[encoded data removed]",
            "text/plain": [
              "<Figure size 800x500 with 1 Axes>"
            ]
          },
          "metadata": {},
          "output_type": "display_data"
        },
        {
          "name": "stdout",
          "output_type": "stream",
          "text": [
            "\n",
            "\n"
          ]
        },
        {
          "data": {
            "image/png": "[encoded data removed]",
            "text/plain": [
              "<Figure size 800x500 with 1 Axes>"
            ]
          },
          "metadata": {},
          "output_type": "display_data"
        },
        {
          "name": "stdout",
          "output_type": "stream",
          "text": [
            "\n",
            "\n"
          ]
        }
      ],
      "source": [
        "for colonne in liste_colonne:\n",
        "    plt.figure(figsize=(8, 5))\n",
        "    sns.boxplot(df_filtrer[colonne])\n",
        "    plt.title(f\"Boxplot {colonne}\")\n",
        "    plt.show()\n",
        "    print('\\n')"
      ]
    },
    {
      "cell_type": "markdown",
      "metadata": {
        "id": "FHCOb_ACM3R4"
      },
      "source": [
        "analyse des valeurs aberrante"
      ]
    },
    {
      "cell_type": "markdown",
      "metadata": {
        "id": "px8Lj-93QTpv"
      },
      "source": [
        "Mon analyse se basera sur le jeu de données sans les valeurs aberrantes, car ces valeurs représentent une minorité de la population qui ne reflète pas ma population cible. Mon objectif est de réaliser une analyse précise qui reflète les comportements réels de ma population dans son ensemble."
      ]
    },
    {
      "cell_type": "code",
      "execution_count": 15,
      "metadata": {
        "id": "TzeRdBotOL8t"
      },
      "outputs": [],
      "source": [
        "# Data set avec uniquement les valeurs aberrante\n",
        "\n",
        "outliers_total = pd.DataFrame()\n",
        "\n",
        "for colonne in liste_colonne:\n",
        "    Q1 = df_filtrer[colonne].quantile(0.25)\n",
        "    Q3 = df_filtrer[colonne].quantile(0.75)\n",
        "    IQR = Q3 - Q1\n",
        "    lower_bound = Q1 - 1.5 * IQR\n",
        "    upper_bound = Q3 + 1.5 * IQR\n",
        "\n",
        "    # Ajouter les outliers à un DataFrame séparé\n",
        "    outliers = df_filtrer[(df_filtrer[colonne] < lower_bound) | (df_filtrer[colonne] > upper_bound)]\n",
        "    outliers_total = pd.concat([outliers_total, outliers])"
      ]
    },
    {
      "cell_type": "code",
      "execution_count": 16,
      "metadata": {
        "id": "jyKlZh9kPJQq"
      },
      "outputs": [],
      "source": [
        "# Data set sans outliers\n",
        "df_filtrer_sans_outliers_total = df_filtrer.copy()\n",
        "\n",
        "for colonne in liste_colonne:\n",
        "    Q1 = df_filtrer[colonne].quantile(0.25)\n",
        "    Q3 = df_filtrer[colonne].quantile(0.75)\n",
        "    IQR = Q3 - Q1\n",
        "    lower_bound = Q1 - 1.5 * IQR\n",
        "    upper_bound = Q3 + 1.5 * IQR\n",
        "\n",
        "    df_filtrer_sans_outliers_total = df_filtrer_sans_outliers_total[\n",
        "        (df_filtrer_sans_outliers_total[colonne] >= lower_bound) &\n",
        "        (df_filtrer_sans_outliers_total[colonne] <= upper_bound)\n",
        "    ]"
      ]
    },
    {
      "cell_type": "code",
      "execution_count": 17,
      "metadata": {
        "colab": {
          "base_uri": "https://localhost:8080/",
          "height": 300
        },
        "id": "rnCdouVSPJKn",
        "outputId": "9b4de5c1-1a1c-4fb0-9604-8665f9f12532"
      },
      "outputs": [
        {
          "data": {
            "text/html": [
              "<div>\n",
              "<style scoped>\n",
              "    .dataframe tbody tr th:only-of-type {\n",
              "        vertical-align: middle;\n",
              "    }\n",
              "\n",
              "    .dataframe tbody tr th {\n",
              "        vertical-align: top;\n",
              "    }\n",
              "\n",
              "    .dataframe thead th {\n",
              "        text-align: right;\n",
              "    }\n",
              "</style>\n",
              "<table border=\"1\" class=\"dataframe\">\n",
              "  <thead>\n",
              "    <tr style=\"text-align: right;\">\n",
              "      <th></th>\n",
              "      <th>session_length</th>\n",
              "      <th>publisher_revenue</th>\n",
              "    </tr>\n",
              "  </thead>\n",
              "  <tbody>\n",
              "    <tr>\n",
              "      <th>count</th>\n",
              "      <td>331862.000000</td>\n",
              "      <td>331862.000000</td>\n",
              "    </tr>\n",
              "    <tr>\n",
              "      <th>mean</th>\n",
              "      <td>244.237454</td>\n",
              "      <td>0.023821</td>\n",
              "    </tr>\n",
              "    <tr>\n",
              "      <th>std</th>\n",
              "      <td>233.380498</td>\n",
              "      <td>0.028334</td>\n",
              "    </tr>\n",
              "    <tr>\n",
              "      <th>min</th>\n",
              "      <td>0.000000</td>\n",
              "      <td>0.000000</td>\n",
              "    </tr>\n",
              "    <tr>\n",
              "      <th>25%</th>\n",
              "      <td>67.000000</td>\n",
              "      <td>0.001303</td>\n",
              "    </tr>\n",
              "    <tr>\n",
              "      <th>50%</th>\n",
              "      <td>165.000000</td>\n",
              "      <td>0.012219</td>\n",
              "    </tr>\n",
              "    <tr>\n",
              "      <th>75%</th>\n",
              "      <td>362.000000</td>\n",
              "      <td>0.036520</td>\n",
              "    </tr>\n",
              "    <tr>\n",
              "      <th>max</th>\n",
              "      <td>1045.000000</td>\n",
              "      <td>0.120505</td>\n",
              "    </tr>\n",
              "  </tbody>\n",
              "</table>\n",
              "</div>"
            ],
            "text/plain": [
              "       session_length  publisher_revenue\n",
              "count   331862.000000      331862.000000\n",
              "mean       244.237454           0.023821\n",
              "std        233.380498           0.028334\n",
              "min          0.000000           0.000000\n",
              "25%         67.000000           0.001303\n",
              "50%        165.000000           0.012219\n",
              "75%        362.000000           0.036520\n",
              "max       1045.000000           0.120505"
            ]
          },
          "execution_count": 17,
          "metadata": {},
          "output_type": "execute_result"
        }
      ],
      "source": [
        "df_filtrer_sans_outliers_total.describe()"
      ]
    },
    {
      "cell_type": "code",
      "execution_count": 18,
      "metadata": {
        "colab": {
          "base_uri": "https://localhost:8080/"
        },
        "id": "3mX8N0RbPI4G",
        "outputId": "5834c31e-eb68-499e-8dc8-f44a44fb44d0"
      },
      "outputs": [
        {
          "name": "stdout",
          "output_type": "stream",
          "text": [
            "(331862, 5)\n",
            "(371926, 5)\n"
          ]
        }
      ],
      "source": [
        "print(f\"{df_filtrer_sans_outliers_total.shape}\\n{df_filtrer.shape}\")"
      ]
    },
    {
      "cell_type": "markdown",
      "metadata": {
        "id": "DVuQkT8jZQIC"
      },
      "source": [
        "j'ai perdu 10% de mon data set, c'est assez négligeable dans mon contexte"
      ]
    },
    {
      "cell_type": "code",
      "execution_count": 19,
      "metadata": {
        "colab": {
          "base_uri": "https://localhost:8080/"
        },
        "id": "zjhtsvO-F_ag",
        "outputId": "3a8438f1-c0f9-466a-84ee-b2f7c754342d"
      },
      "outputs": [
        {
          "name": "stdout",
          "output_type": "stream",
          "text": [
            "android    68.04937\n",
            "ios        31.95063\n",
            "Name: platform, dtype: float64\n"
          ]
        }
      ],
      "source": [
        "pourcentage_occurence = df_filtrer_sans_outliers_total['platform'].value_counts(normalize=True) * 100\n",
        "print(pourcentage_occurence)"
      ]
    },
    {
      "cell_type": "code",
      "execution_count": 20,
      "metadata": {
        "id": "4xGzn-LsHPMV"
      },
      "outputs": [],
      "source": [
        "# Filtrer le DataFrame pour les utilisateurs Android\n",
        "df_android = df_filtrer_sans_outliers_total[df_filtrer_sans_outliers_total['platform'] == 'android']\n",
        "\n",
        "# Filtrer le DataFrame pour les utilisateurs iOS\n",
        "df_ios = df_filtrer_sans_outliers_total[df_filtrer_sans_outliers_total['platform'] == 'ios']"
      ]
    },
    {
      "cell_type": "code",
      "execution_count": 21,
      "metadata": {
        "colab": {
          "base_uri": "https://localhost:8080/"
        },
        "id": "VHJ_WqrUHyGX",
        "outputId": "8ce2d6ee-438e-4c12-e568-486bf55d844a"
      },
      "outputs": [
        {
          "name": "stdout",
          "output_type": "stream",
          "text": [
            "taille data set android :(225830, 5)\n",
            "taille data set ios : (106032, 5)\n"
          ]
        }
      ],
      "source": [
        "print(f\"taille data set android :{df_android.shape}\\ntaille data set ios : {df_ios.shape}\")"
      ]
    },
    {
      "cell_type": "markdown",
      "metadata": {
        "id": "FXj0CboFZrQQ"
      },
      "source": [
        "le jeu de donnée ios étant quand même conséquent, je pourrais analyser les plateformes pour voir s'il y'a une différence notable entre les deux population"
      ]
    },
    {
      "cell_type": "markdown",
      "metadata": {
        "id": "LE_v1sVRZ8L0"
      },
      "source": [
        "## Analyse sans outliers"
      ]
    },
    {
      "cell_type": "code",
      "execution_count": 22,
      "metadata": {
        "colab": {
          "base_uri": "https://localhost:8080/",
          "height": 206
        },
        "id": "JRVo6bWBZ-hS",
        "outputId": "12419f93-5857-402a-a1bb-7114aa97493a"
      },
      "outputs": [
        {
          "data": {
            "text/html": [
              "<div>\n",
              "<style scoped>\n",
              "    .dataframe tbody tr th:only-of-type {\n",
              "        vertical-align: middle;\n",
              "    }\n",
              "\n",
              "    .dataframe tbody tr th {\n",
              "        vertical-align: top;\n",
              "    }\n",
              "\n",
              "    .dataframe thead th {\n",
              "        text-align: right;\n",
              "    }\n",
              "</style>\n",
              "<table border=\"1\" class=\"dataframe\">\n",
              "  <thead>\n",
              "    <tr style=\"text-align: right;\">\n",
              "      <th></th>\n",
              "      <th>platform</th>\n",
              "      <th>country</th>\n",
              "      <th>session_length</th>\n",
              "      <th>publisher_revenue</th>\n",
              "      <th>ab_cohort_name</th>\n",
              "    </tr>\n",
              "  </thead>\n",
              "  <tbody>\n",
              "    <tr>\n",
              "      <th>0</th>\n",
              "      <td>android</td>\n",
              "      <td>TN</td>\n",
              "      <td>36</td>\n",
              "      <td>0.000010</td>\n",
              "      <td>gameTune</td>\n",
              "    </tr>\n",
              "    <tr>\n",
              "      <th>1</th>\n",
              "      <td>android</td>\n",
              "      <td>TN</td>\n",
              "      <td>158</td>\n",
              "      <td>0.000110</td>\n",
              "      <td>gameTune</td>\n",
              "    </tr>\n",
              "    <tr>\n",
              "      <th>2</th>\n",
              "      <td>android</td>\n",
              "      <td>TN</td>\n",
              "      <td>90</td>\n",
              "      <td>0.000020</td>\n",
              "      <td>gameTune</td>\n",
              "    </tr>\n",
              "    <tr>\n",
              "      <th>3</th>\n",
              "      <td>android</td>\n",
              "      <td>AE</td>\n",
              "      <td>517</td>\n",
              "      <td>0.055515</td>\n",
              "      <td>xxHigh</td>\n",
              "    </tr>\n",
              "    <tr>\n",
              "      <th>4</th>\n",
              "      <td>android</td>\n",
              "      <td>AE</td>\n",
              "      <td>385</td>\n",
              "      <td>0.014300</td>\n",
              "      <td>gameTune</td>\n",
              "    </tr>\n",
              "  </tbody>\n",
              "</table>\n",
              "</div>"
            ],
            "text/plain": [
              "  platform country  session_length  publisher_revenue ab_cohort_name\n",
              "0  android      TN              36           0.000010       gameTune\n",
              "1  android      TN             158           0.000110       gameTune\n",
              "2  android      TN              90           0.000020       gameTune\n",
              "3  android      AE             517           0.055515         xxHigh\n",
              "4  android      AE             385           0.014300       gameTune"
            ]
          },
          "execution_count": 22,
          "metadata": {},
          "output_type": "execute_result"
        }
      ],
      "source": [
        "df_filtrer_sans_outliers_total.head()"
      ]
    },
    {
      "cell_type": "code",
      "execution_count": 23,
      "metadata": {
        "colab": {
          "base_uri": "https://localhost:8080/",
          "height": 300
        },
        "id": "8AjSpWSubENb",
        "outputId": "82521d09-1c4d-48c7-d7b5-ca3e267632a6"
      },
      "outputs": [
        {
          "data": {
            "text/html": [
              "<div>\n",
              "<style scoped>\n",
              "    .dataframe tbody tr th:only-of-type {\n",
              "        vertical-align: middle;\n",
              "    }\n",
              "\n",
              "    .dataframe tbody tr th {\n",
              "        vertical-align: top;\n",
              "    }\n",
              "\n",
              "    .dataframe thead th {\n",
              "        text-align: right;\n",
              "    }\n",
              "</style>\n",
              "<table border=\"1\" class=\"dataframe\">\n",
              "  <thead>\n",
              "    <tr style=\"text-align: right;\">\n",
              "      <th></th>\n",
              "      <th>session_length</th>\n",
              "      <th>publisher_revenue</th>\n",
              "    </tr>\n",
              "  </thead>\n",
              "  <tbody>\n",
              "    <tr>\n",
              "      <th>count</th>\n",
              "      <td>331862.000000</td>\n",
              "      <td>331862.000000</td>\n",
              "    </tr>\n",
              "    <tr>\n",
              "      <th>mean</th>\n",
              "      <td>244.237454</td>\n",
              "      <td>0.023821</td>\n",
              "    </tr>\n",
              "    <tr>\n",
              "      <th>std</th>\n",
              "      <td>233.380498</td>\n",
              "      <td>0.028334</td>\n",
              "    </tr>\n",
              "    <tr>\n",
              "      <th>min</th>\n",
              "      <td>0.000000</td>\n",
              "      <td>0.000000</td>\n",
              "    </tr>\n",
              "    <tr>\n",
              "      <th>25%</th>\n",
              "      <td>67.000000</td>\n",
              "      <td>0.001303</td>\n",
              "    </tr>\n",
              "    <tr>\n",
              "      <th>50%</th>\n",
              "      <td>165.000000</td>\n",
              "      <td>0.012219</td>\n",
              "    </tr>\n",
              "    <tr>\n",
              "      <th>75%</th>\n",
              "      <td>362.000000</td>\n",
              "      <td>0.036520</td>\n",
              "    </tr>\n",
              "    <tr>\n",
              "      <th>max</th>\n",
              "      <td>1045.000000</td>\n",
              "      <td>0.120505</td>\n",
              "    </tr>\n",
              "  </tbody>\n",
              "</table>\n",
              "</div>"
            ],
            "text/plain": [
              "       session_length  publisher_revenue\n",
              "count   331862.000000      331862.000000\n",
              "mean       244.237454           0.023821\n",
              "std        233.380498           0.028334\n",
              "min          0.000000           0.000000\n",
              "25%         67.000000           0.001303\n",
              "50%        165.000000           0.012219\n",
              "75%        362.000000           0.036520\n",
              "max       1045.000000           0.120505"
            ]
          },
          "execution_count": 23,
          "metadata": {},
          "output_type": "execute_result"
        }
      ],
      "source": [
        "df_filtrer_sans_outliers_total.describe()"
      ]
    },
    {
      "cell_type": "code",
      "execution_count": 24,
      "metadata": {
        "id": "RQRLOr5haRYV"
      },
      "outputs": [],
      "source": [
        "# voyons les corrélation"
      ]
    },
    {
      "cell_type": "code",
      "execution_count": 25,
      "metadata": {
        "colab": {
          "base_uri": "https://localhost:8080/",
          "height": 699
        },
        "id": "LrbnpX99acTZ",
        "outputId": "35b37ac7-706f-4e1e-df1d-3316abb87753"
      },
      "outputs": [
        {
          "data": {
            "image/png": "[encoded data removed]",
            "text/plain": [
              "<Figure size 1000x800 with 2 Axes>"
            ]
          },
          "metadata": {},
          "output_type": "display_data"
        }
      ],
      "source": [
        "corr_matrix = df_filtrer_sans_outliers_total[['session_length', 'publisher_revenue']].corr()\n",
        "plt.figure(figsize=(10, 8))\n",
        "sns.heatmap(corr_matrix, annot=True, cmap='coolwarm', vmin=-1, vmax=1, linewidths=0.5)\n",
        "plt.title('Heatmap de corrélation')\n",
        "plt.show()"
      ]
    },
    {
      "cell_type": "markdown",
      "metadata": {
        "id": "scWLxslUauJw"
      },
      "source": [
        "mes deux variables évolue positivement ensemble"
      ]
    },
    {
      "cell_type": "code",
      "execution_count": 26,
      "metadata": {
        "id": "jcJhjEJianob"
      },
      "outputs": [],
      "source": [
        "# cherchons quelle fréquence de pub maximise nos deux kpi"
      ]
    },
    {
      "cell_type": "code",
      "execution_count": 27,
      "metadata": {
        "colab": {
          "base_uri": "https://localhost:8080/"
        },
        "id": "svvFG8BvbAxH",
        "outputId": "6ee5459c-9d8d-4f29-f9a8-41756b847481"
      },
      "outputs": [
        {
          "name": "stdout",
          "output_type": "stream",
          "text": [
            "  ab_cohort_name  session_length  publisher_revenue\n",
            "0        control      242.078880           0.024168\n",
            "1       gameTune      238.339283           0.024454\n",
            "2          xHigh      237.308317           0.024796\n",
            "3           xLow      252.536067           0.022693\n",
            "4         xxHigh      236.945767           0.024729\n",
            "5          xxLow      257.429078           0.022185\n"
          ]
        }
      ],
      "source": [
        "# Calculons la moyenne pour chaque variable en fonction de 'ab_cohort_name'\n",
        "grouped_means = df_filtrer_sans_outliers_total.groupby('ab_cohort_name').agg({\n",
        "    'session_length': 'mean',\n",
        "    'publisher_revenue': 'mean'\n",
        "}).reset_index()\n",
        "\n",
        "print(grouped_means)"
      ]
    },
    {
      "cell_type": "code",
      "execution_count": 28,
      "metadata": {
        "colab": {
          "base_uri": "https://localhost:8080/"
        },
        "id": "bWOzJ-gj1FVZ",
        "outputId": "38718fab-15fb-4a25-fd17-ba6374d3a0ca"
      },
      "outputs": [
        {
          "name": "stdout",
          "output_type": "stream",
          "text": [
            "  ab_cohort_name  session_length  publisher_revenue  \\\n",
            "0        control      242.078880           0.024168   \n",
            "1       gameTune      238.339283           0.024454   \n",
            "2          xHigh      237.308317           0.024796   \n",
            "3           xLow      252.536067           0.022693   \n",
            "4         xxHigh      236.945767           0.024729   \n",
            "5          xxLow      257.429078           0.022185   \n",
            "\n",
            "   normalized_session_length  normalized_publisher_revenue  compromise_score  \n",
            "0                   0.250600                      0.759417          0.505009  \n",
            "1                   0.068032                      0.869050          0.468541  \n",
            "2                   0.017700                      1.000000          0.508850  \n",
            "3                   0.761122                      0.194580          0.477851  \n",
            "4                   0.000000                      0.974335          0.487168  \n",
            "5                   1.000000                      0.000000          0.500000  \n",
            "La fréquence avec le meilleur compromis est : xHigh\n"
          ]
        }
      ],
      "source": [
        "mean_kpis = df_filtrer_sans_outliers_total.groupby('ab_cohort_name')[['session_length', 'publisher_revenue']].mean().reset_index()\n",
        "\n",
        "mean_kpis['normalized_session_length'] = (mean_kpis['session_length'] - mean_kpis['session_length'].min()) / (mean_kpis['session_length'].max() - mean_kpis['session_length'].min())\n",
        "mean_kpis['normalized_publisher_revenue'] = (mean_kpis['publisher_revenue'] - mean_kpis['publisher_revenue'].min()) / (mean_kpis['publisher_revenue'].max() - mean_kpis['publisher_revenue'].min())\n",
        "\n",
        "mean_kpis['compromise_score'] = (mean_kpis['normalized_session_length'] + mean_kpis['normalized_publisher_revenue']) / 2\n",
        "\n",
        "best_compromise_frequency = mean_kpis.loc[mean_kpis['compromise_score'].idxmax(), 'ab_cohort_name']\n",
        "\n",
        "print(mean_kpis[['ab_cohort_name', 'session_length', 'publisher_revenue', 'normalized_session_length', 'normalized_publisher_revenue', 'compromise_score']])\n",
        "print(\"La fréquence avec le meilleur compromis est :\", best_compromise_frequency)"
      ]
    },
    {
      "cell_type": "code",
      "execution_count": 29,
      "metadata": {
        "colab": {
          "base_uri": "https://localhost:8080/",
          "height": 806
        },
        "id": "Ag0YXMBg1Lqd",
        "outputId": "eac7e1ac-1eb3-49ab-a2e3-21ec6e74dce3"
      },
      "outputs": [
        {
          "data": {
            "image/png": "[encoded data removed]",
            "text/plain": [
              "<Figure size 1200x800 with 1 Axes>"
            ]
          },
          "metadata": {},
          "output_type": "display_data"
        }
      ],
      "source": [
        "mean_kpis_sorted = mean_kpis.sort_values(by='compromise_score', ascending=False)\n",
        "\n",
        "# Création du graphique en barres pour les scores de compromis\n",
        "plt.figure(figsize=(12, 8))\n",
        "plt.bar(mean_kpis_sorted['ab_cohort_name'], mean_kpis_sorted['compromise_score'], color='#F3E3D8', edgecolor='#3E2513')\n",
        "plt.title(\"Score de Compromis par Fréquence Publicitaire\", fontsize=15, fontweight='bold', fontfamily='sans-serif', color='#3E2513')\n",
        "plt.xlabel(\"Fréquence Publicitaire\", fontsize=15, fontweight='bold', fontfamily='sans-serif', color='#3E2513')\n",
        "plt.ylabel(\"Score de Compromis\", fontsize=15, fontweight='bold', fontfamily='sans-serif', color='#3E2513')\n",
        "plt.xticks(rotation=45, fontsize=12, fontfamily='sans-serif')\n",
        "plt.yticks(fontsize=12, fontfamily='sans-serif', color='#3E2513')\n",
        "\n",
        "# Retirer la grille\n",
        "plt.grid(False)\n",
        "\n",
        "plt.tight_layout()\n",
        "plt.show()"
      ]
    },
    {
      "cell_type": "markdown",
      "metadata": {
        "id": "YMJsyTvDhj3K"
      },
      "source": [
        "### analyse en fonction des plateformes"
      ]
    },
    {
      "cell_type": "code",
      "execution_count": 30,
      "metadata": {
        "colab": {
          "base_uri": "https://localhost:8080/",
          "height": 300
        },
        "id": "QDegAsO4g_J7",
        "outputId": "72fa8281-aa2f-42b8-c1de-febfd3ec965a"
      },
      "outputs": [
        {
          "data": {
            "text/html": [
              "<div>\n",
              "<style scoped>\n",
              "    .dataframe tbody tr th:only-of-type {\n",
              "        vertical-align: middle;\n",
              "    }\n",
              "\n",
              "    .dataframe tbody tr th {\n",
              "        vertical-align: top;\n",
              "    }\n",
              "\n",
              "    .dataframe thead th {\n",
              "        text-align: right;\n",
              "    }\n",
              "</style>\n",
              "<table border=\"1\" class=\"dataframe\">\n",
              "  <thead>\n",
              "    <tr style=\"text-align: right;\">\n",
              "      <th></th>\n",
              "      <th>session_length</th>\n",
              "      <th>publisher_revenue</th>\n",
              "    </tr>\n",
              "  </thead>\n",
              "  <tbody>\n",
              "    <tr>\n",
              "      <th>count</th>\n",
              "      <td>225830.000000</td>\n",
              "      <td>225830.000000</td>\n",
              "    </tr>\n",
              "    <tr>\n",
              "      <th>mean</th>\n",
              "      <td>266.813479</td>\n",
              "      <td>0.020657</td>\n",
              "    </tr>\n",
              "    <tr>\n",
              "      <th>std</th>\n",
              "      <td>246.304036</td>\n",
              "      <td>0.025620</td>\n",
              "    </tr>\n",
              "    <tr>\n",
              "      <th>min</th>\n",
              "      <td>0.000000</td>\n",
              "      <td>0.000000</td>\n",
              "    </tr>\n",
              "    <tr>\n",
              "      <th>25%</th>\n",
              "      <td>72.000000</td>\n",
              "      <td>0.001200</td>\n",
              "    </tr>\n",
              "    <tr>\n",
              "      <th>50%</th>\n",
              "      <td>186.000000</td>\n",
              "      <td>0.009738</td>\n",
              "    </tr>\n",
              "    <tr>\n",
              "      <th>75%</th>\n",
              "      <td>403.000000</td>\n",
              "      <td>0.031214</td>\n",
              "    </tr>\n",
              "    <tr>\n",
              "      <th>max</th>\n",
              "      <td>1045.000000</td>\n",
              "      <td>0.120494</td>\n",
              "    </tr>\n",
              "  </tbody>\n",
              "</table>\n",
              "</div>"
            ],
            "text/plain": [
              "       session_length  publisher_revenue\n",
              "count   225830.000000      225830.000000\n",
              "mean       266.813479           0.020657\n",
              "std        246.304036           0.025620\n",
              "min          0.000000           0.000000\n",
              "25%         72.000000           0.001200\n",
              "50%        186.000000           0.009738\n",
              "75%        403.000000           0.031214\n",
              "max       1045.000000           0.120494"
            ]
          },
          "execution_count": 30,
          "metadata": {},
          "output_type": "execute_result"
        }
      ],
      "source": [
        "df_android.describe()"
      ]
    },
    {
      "cell_type": "code",
      "execution_count": 31,
      "metadata": {
        "colab": {
          "base_uri": "https://localhost:8080/",
          "height": 300
        },
        "id": "xRutnlnhhgU6",
        "outputId": "41b1c3bf-fb82-48fd-c0e7-b39e34ca9ff9"
      },
      "outputs": [
        {
          "data": {
            "text/html": [
              "<div>\n",
              "<style scoped>\n",
              "    .dataframe tbody tr th:only-of-type {\n",
              "        vertical-align: middle;\n",
              "    }\n",
              "\n",
              "    .dataframe tbody tr th {\n",
              "        vertical-align: top;\n",
              "    }\n",
              "\n",
              "    .dataframe thead th {\n",
              "        text-align: right;\n",
              "    }\n",
              "</style>\n",
              "<table border=\"1\" class=\"dataframe\">\n",
              "  <thead>\n",
              "    <tr style=\"text-align: right;\">\n",
              "      <th></th>\n",
              "      <th>session_length</th>\n",
              "      <th>publisher_revenue</th>\n",
              "    </tr>\n",
              "  </thead>\n",
              "  <tbody>\n",
              "    <tr>\n",
              "      <th>count</th>\n",
              "      <td>106032.000000</td>\n",
              "      <td>106032.000000</td>\n",
              "    </tr>\n",
              "    <tr>\n",
              "      <th>mean</th>\n",
              "      <td>196.154387</td>\n",
              "      <td>0.030559</td>\n",
              "    </tr>\n",
              "    <tr>\n",
              "      <th>std</th>\n",
              "      <td>194.592107</td>\n",
              "      <td>0.032372</td>\n",
              "    </tr>\n",
              "    <tr>\n",
              "      <th>min</th>\n",
              "      <td>0.000000</td>\n",
              "      <td>0.000000</td>\n",
              "    </tr>\n",
              "    <tr>\n",
              "      <th>25%</th>\n",
              "      <td>57.000000</td>\n",
              "      <td>0.001880</td>\n",
              "    </tr>\n",
              "    <tr>\n",
              "      <th>50%</th>\n",
              "      <td>132.000000</td>\n",
              "      <td>0.021500</td>\n",
              "    </tr>\n",
              "    <tr>\n",
              "      <th>75%</th>\n",
              "      <td>280.000000</td>\n",
              "      <td>0.050512</td>\n",
              "    </tr>\n",
              "    <tr>\n",
              "      <th>max</th>\n",
              "      <td>1045.000000</td>\n",
              "      <td>0.120505</td>\n",
              "    </tr>\n",
              "  </tbody>\n",
              "</table>\n",
              "</div>"
            ],
            "text/plain": [
              "       session_length  publisher_revenue\n",
              "count   106032.000000      106032.000000\n",
              "mean       196.154387           0.030559\n",
              "std        194.592107           0.032372\n",
              "min          0.000000           0.000000\n",
              "25%         57.000000           0.001880\n",
              "50%        132.000000           0.021500\n",
              "75%        280.000000           0.050512\n",
              "max       1045.000000           0.120505"
            ]
          },
          "execution_count": 31,
          "metadata": {},
          "output_type": "execute_result"
        }
      ],
      "source": [
        "df_ios.describe()"
      ]
    },
    {
      "cell_type": "markdown",
      "metadata": {
        "id": "M9JO63C33jSl"
      },
      "source": [
        "NB : Les utilisateurs IOS ont une durée de session en moyenne inférieur a la durée de session des utilisateurs android"
      ]
    },
    {
      "cell_type": "code",
      "execution_count": 32,
      "metadata": {
        "colab": {
          "base_uri": "https://localhost:8080/"
        },
        "id": "wiXYKp872DHb",
        "outputId": "c8fc5954-2b96-45c0-ef35-502aa268481c"
      },
      "outputs": [
        {
          "name": "stdout",
          "output_type": "stream",
          "text": [
            "  ab_cohort_name  session_length  publisher_revenue\n",
            "0        control      196.525992           0.031019\n",
            "1       gameTune      186.149586           0.031432\n",
            "2          xHigh      186.689895           0.032372\n",
            "3           xLow      208.491161           0.029090\n",
            "4         xxHigh      182.219375           0.031927\n",
            "5          xxLow      214.333135           0.027810\n"
          ]
        }
      ],
      "source": [
        "grouped_means_android = df_ios.groupby('ab_cohort_name').agg({\n",
        "    'session_length': 'mean',\n",
        "    'publisher_revenue': 'mean'\n",
        "}).reset_index()\n",
        "\n",
        "print(grouped_means_android)"
      ]
    },
    {
      "cell_type": "code",
      "execution_count": 33,
      "metadata": {
        "colab": {
          "base_uri": "https://localhost:8080/"
        },
        "id": "Bd-JyJJ2hxUT",
        "outputId": "6cb30eab-7ec8-4284-af11-6f8e50d32887"
      },
      "outputs": [
        {
          "name": "stdout",
          "output_type": "stream",
          "text": [
            "  ab_cohort_name  session_length  publisher_revenue\n",
            "0        control      196.525992           0.031019\n",
            "1       gameTune      186.149586           0.031432\n",
            "2          xHigh      186.689895           0.032372\n",
            "3           xLow      208.491161           0.029090\n",
            "4         xxHigh      182.219375           0.031927\n",
            "5          xxLow      214.333135           0.027810\n"
          ]
        }
      ],
      "source": [
        "grouped_means_ios = df_ios.groupby('ab_cohort_name').agg({\n",
        "    'session_length': 'mean',\n",
        "    'publisher_revenue': 'mean'\n",
        "}).reset_index()\n",
        "\n",
        "print(grouped_means_ios)"
      ]
    },
    {
      "cell_type": "markdown",
      "metadata": {
        "id": "eVgdp0-D2rmP"
      },
      "source": [
        "### Pour IOS"
      ]
    },
    {
      "cell_type": "code",
      "execution_count": 34,
      "metadata": {
        "colab": {
          "base_uri": "https://localhost:8080/"
        },
        "id": "fmPonW2N2Xs-",
        "outputId": "a41bc6fc-471a-4f04-97cd-16a58652bf22"
      },
      "outputs": [
        {
          "name": "stdout",
          "output_type": "stream",
          "text": [
            "  ab_cohort_name  session_length  publisher_revenue  \\\n",
            "0        control      196.525992           0.031019   \n",
            "1       gameTune      186.149586           0.031432   \n",
            "2          xHigh      186.689895           0.032372   \n",
            "3           xLow      208.491161           0.029090   \n",
            "4         xxHigh      182.219375           0.031927   \n",
            "5          xxLow      214.333135           0.027810   \n",
            "\n",
            "   normalized_session_length  normalized_publisher_revenue  compromise_score  \n",
            "0                   0.445498                      0.703384          0.574441  \n",
            "1                   0.122384                      0.794004          0.458194  \n",
            "2                   0.139209                      1.000000          0.569604  \n",
            "3                   0.818085                      0.280604          0.549345  \n",
            "4                   0.000000                      0.902502          0.451251  \n",
            "5                   1.000000                      0.000000          0.500000  \n",
            "La fréquence avec le meilleur compromis est : control\n"
          ]
        }
      ],
      "source": [
        "# Calcul des moyennes de durée de session et de revenu par fréquence publicitaire\n",
        "mean_kpis = df_ios.groupby('ab_cohort_name')[['session_length', 'publisher_revenue']].mean().reset_index()\n",
        "\n",
        "# Normalisation des valeurs de durée de session et de revenu pour chaque fréquence\n",
        "mean_kpis['normalized_session_length'] = (mean_kpis['session_length'] - mean_kpis['session_length'].min()) / (mean_kpis['session_length'].max() - mean_kpis['session_length'].min())\n",
        "mean_kpis['normalized_publisher_revenue'] = (mean_kpis['publisher_revenue'] - mean_kpis['publisher_revenue'].min()) / (mean_kpis['publisher_revenue'].max() - mean_kpis['publisher_revenue'].min())\n",
        "\n",
        "# Calcul du score moyen comme compromis entre les deux KPI\n",
        "mean_kpis['compromise_score'] = (mean_kpis['normalized_session_length'] + mean_kpis['normalized_publisher_revenue']) / 2\n",
        "\n",
        "# Identification de la fréquence avec le meilleur compromis (score le plus élevé)\n",
        "best_compromise_frequency = mean_kpis.loc[mean_kpis['compromise_score'].idxmax(), 'ab_cohort_name']\n",
        "\n",
        "print(mean_kpis[['ab_cohort_name', 'session_length', 'publisher_revenue', 'normalized_session_length', 'normalized_publisher_revenue', 'compromise_score']])\n",
        "print(\"La fréquence avec le meilleur compromis est :\", best_compromise_frequency)"
      ]
    },
    {
      "cell_type": "code",
      "execution_count": 35,
      "metadata": {
        "colab": {
          "base_uri": "https://localhost:8080/",
          "height": 806
        },
        "id": "Li4L9A-t2R_5",
        "outputId": "4f6a85aa-6529-4d3d-bc5a-c7a648acc65a"
      },
      "outputs": [
        {
          "data": {
            "image/png": "[encoded data removed]",
            "text/plain": [
              "<Figure size 1200x800 with 1 Axes>"
            ]
          },
          "metadata": {},
          "output_type": "display_data"
        }
      ],
      "source": [
        "import matplotlib.pyplot as plt\n",
        "\n",
        "mean_kpis_sorted = mean_kpis.sort_values(by='compromise_score', ascending=False)\n",
        "\n",
        "# Création du graphique en barres pour les scores de compromis\n",
        "plt.figure(figsize=(12, 8))\n",
        "plt.bar(mean_kpis_sorted['ab_cohort_name'], mean_kpis_sorted['compromise_score'], color='#F3E3D8', edgecolor='#3E2513')\n",
        "plt.title(\"Score de Compromis par Fréquence Publicitaire\", fontsize=15, fontweight='bold', fontfamily='sans-serif', color='#3E2513')\n",
        "plt.xlabel(\"Fréquence Publicitaire\", fontsize=15, fontweight='bold', fontfamily='sans-serif', color='#3E2513')\n",
        "plt.ylabel(\"Score de Compromis\", fontsize=15, fontweight='bold', fontfamily='sans-serif', color='#3E2513')\n",
        "plt.xticks(rotation=45, fontsize=12, fontfamily='sans-serif')\n",
        "plt.yticks(fontsize=12, fontfamily='sans-serif', color='#3E2513')\n",
        "\n",
        "plt.grid(False)\n",
        "\n",
        "plt.tight_layout()\n",
        "plt.show()"
      ]
    },
    {
      "cell_type": "markdown",
      "metadata": {
        "id": "tOoi7uDg2t0C"
      },
      "source": [
        "### Pour android"
      ]
    },
    {
      "cell_type": "code",
      "execution_count": 36,
      "metadata": {
        "colab": {
          "base_uri": "https://localhost:8080/"
        },
        "id": "H8EdqW0G2wK4",
        "outputId": "35384701-7f66-412d-a166-800513ceacbb"
      },
      "outputs": [
        {
          "name": "stdout",
          "output_type": "stream",
          "text": [
            "  ab_cohort_name  session_length  publisher_revenue  \\\n",
            "0        control      264.301337           0.020825   \n",
            "1       gameTune      263.009178           0.021155   \n",
            "2          xHigh      260.630587           0.021305   \n",
            "3           xLow      273.575431           0.019637   \n",
            "4         xxHigh      260.793997           0.021592   \n",
            "5          xxLow      278.207016           0.019472   \n",
            "\n",
            "   normalized_session_length  normalized_publisher_revenue  compromise_score  \n",
            "0                   0.208845                      0.638281          0.423563  \n",
            "1                   0.135328                      0.793946          0.464637  \n",
            "2                   0.000000                      0.864652          0.432326  \n",
            "3                   0.736489                      0.077522          0.407005  \n",
            "4                   0.009297                      1.000000          0.504649  \n",
            "5                   1.000000                      0.000000          0.500000  \n",
            "La fréquence avec le meilleur compromis est : xxHigh\n"
          ]
        }
      ],
      "source": [
        "import pandas as pd\n",
        "import numpy as np\n",
        "\n",
        "mean_kpis = df_android.groupby('ab_cohort_name')[['session_length', 'publisher_revenue']].mean().reset_index()\n",
        "\n",
        "mean_kpis['normalized_session_length'] = (mean_kpis['session_length'] - mean_kpis['session_length'].min()) / (mean_kpis['session_length'].max() - mean_kpis['session_length'].min())\n",
        "mean_kpis['normalized_publisher_revenue'] = (mean_kpis['publisher_revenue'] - mean_kpis['publisher_revenue'].min()) / (mean_kpis['publisher_revenue'].max() - mean_kpis['publisher_revenue'].min())\n",
        "\n",
        "mean_kpis['compromise_score'] = (mean_kpis['normalized_session_length'] + mean_kpis['normalized_publisher_revenue']) / 2\n",
        "\n",
        "best_compromise_frequency = mean_kpis.loc[mean_kpis['compromise_score'].idxmax(), 'ab_cohort_name']\n",
        "\n",
        "print(mean_kpis[['ab_cohort_name', 'session_length', 'publisher_revenue', 'normalized_session_length', 'normalized_publisher_revenue', 'compromise_score']])\n",
        "print(\"La fréquence avec le meilleur compromis est :\", best_compromise_frequency)"
      ]
    },
    {
      "cell_type": "code",
      "execution_count": 37,
      "metadata": {
        "colab": {
          "base_uri": "https://localhost:8080/",
          "height": 806
        },
        "id": "GYipTMUy2vx2",
        "outputId": "0303a022-b5bd-4d03-b658-9468d4b1197e"
      },
      "outputs": [
        {
          "data": {
            "image/png": "[encoded data removed]",
            "text/plain": [
              "<Figure size 1200x800 with 1 Axes>"
            ]
          },
          "metadata": {},
          "output_type": "display_data"
        }
      ],
      "source": [
        "import matplotlib.pyplot as plt\n",
        "\n",
        "mean_kpis_sorted = mean_kpis.sort_values(by='compromise_score', ascending=False)\n",
        "\n",
        "# Création du graphique en barres pour les scores de compromis\n",
        "plt.figure(figsize=(12, 8))\n",
        "plt.bar(mean_kpis_sorted['ab_cohort_name'], mean_kpis_sorted['compromise_score'], color='#F3E3D8', edgecolor='#3E2513')\n",
        "plt.title(\"Score de Compromis par Fréquence Publicitaire\", fontsize=15, fontweight='bold', fontfamily='sans-serif', color='#3E2513')\n",
        "plt.xlabel(\"Fréquence Publicitaire\", fontsize=15, fontweight='bold', fontfamily='sans-serif', color='#3E2513')\n",
        "plt.ylabel(\"Score de Compromis\", fontsize=15, fontweight='bold', fontfamily='sans-serif', color='#3E2513')\n",
        "plt.xticks(rotation=45, fontsize=12, fontfamily='sans-serif')\n",
        "plt.yticks(fontsize=12, fontfamily='sans-serif', color='#3E2513')\n",
        "\n",
        "plt.grid(False)\n",
        "\n",
        "plt.tight_layout()\n",
        "plt.show()"
      ]
    },
    {
      "cell_type": "markdown",
      "metadata": {
        "id": "5DjoWWatid6n"
      },
      "source": [
        "Après mon analyse en fonction des plateformes, fort est de contacter que la fréquence qui maximise nos deux kpi pour android est XXHigh, cepedant pour ios les résultat sont pareil que lorsque ous faisions l'analyse global sans différencier les plateforme"
      ]
    },
    {
      "cell_type": "markdown",
      "metadata": {
        "id": "kAvIctymjA9j"
      },
      "source": [
        "- Le fait que Android montre une performance supérieure avec la fréquence XXHigh suggère que les utilisateurs Android peuvent être plus réceptifs à des fréquences publicitaires plus élevées. Cela pourrait signifier qu'ils tolèrent mieux un nombre élevé d'annonces, ce qui génère à la fois de plus longues sessions et des revenus plus élevés."
      ]
    },
    {
      "cell_type": "markdown",
      "metadata": {
        "id": "cPvMiC0okRuZ"
      },
      "source": [
        "Suggestion:\n",
        "- Approche personnalisée : Adapter la fréquence publicitaire en fonction de la plateforme. Ce genre de segmentation pourrait améliorer globalement l'expérience utilisateur tout en maximisant les revenus sur chaque plateforme."
      ]
    },
    {
      "cell_type": "markdown",
      "metadata": {
        "id": "NERfFRuM1OcC"
      },
      "source": [
        "## Analyse en fonction de pays"
      ]
    },
    {
      "cell_type": "code",
      "execution_count": 38,
      "metadata": {
        "colab": {
          "base_uri": "https://localhost:8080/",
          "height": 206
        },
        "id": "hOsflJIz2MYu",
        "outputId": "60b5def0-0bc6-43b7-d65f-df0b675927b4"
      },
      "outputs": [
        {
          "data": {
            "text/html": [
              "<div>\n",
              "<style scoped>\n",
              "    .dataframe tbody tr th:only-of-type {\n",
              "        vertical-align: middle;\n",
              "    }\n",
              "\n",
              "    .dataframe tbody tr th {\n",
              "        vertical-align: top;\n",
              "    }\n",
              "\n",
              "    .dataframe thead th {\n",
              "        text-align: right;\n",
              "    }\n",
              "</style>\n",
              "<table border=\"1\" class=\"dataframe\">\n",
              "  <thead>\n",
              "    <tr style=\"text-align: right;\">\n",
              "      <th></th>\n",
              "      <th>platform</th>\n",
              "      <th>country</th>\n",
              "      <th>session_length</th>\n",
              "      <th>publisher_revenue</th>\n",
              "      <th>ab_cohort_name</th>\n",
              "    </tr>\n",
              "  </thead>\n",
              "  <tbody>\n",
              "    <tr>\n",
              "      <th>0</th>\n",
              "      <td>android</td>\n",
              "      <td>TN</td>\n",
              "      <td>36</td>\n",
              "      <td>0.000010</td>\n",
              "      <td>gameTune</td>\n",
              "    </tr>\n",
              "    <tr>\n",
              "      <th>1</th>\n",
              "      <td>android</td>\n",
              "      <td>TN</td>\n",
              "      <td>158</td>\n",
              "      <td>0.000110</td>\n",
              "      <td>gameTune</td>\n",
              "    </tr>\n",
              "    <tr>\n",
              "      <th>2</th>\n",
              "      <td>android</td>\n",
              "      <td>TN</td>\n",
              "      <td>90</td>\n",
              "      <td>0.000020</td>\n",
              "      <td>gameTune</td>\n",
              "    </tr>\n",
              "    <tr>\n",
              "      <th>3</th>\n",
              "      <td>android</td>\n",
              "      <td>AE</td>\n",
              "      <td>517</td>\n",
              "      <td>0.055515</td>\n",
              "      <td>xxHigh</td>\n",
              "    </tr>\n",
              "    <tr>\n",
              "      <th>4</th>\n",
              "      <td>android</td>\n",
              "      <td>AE</td>\n",
              "      <td>385</td>\n",
              "      <td>0.014300</td>\n",
              "      <td>gameTune</td>\n",
              "    </tr>\n",
              "  </tbody>\n",
              "</table>\n",
              "</div>"
            ],
            "text/plain": [
              "  platform country  session_length  publisher_revenue ab_cohort_name\n",
              "0  android      TN              36           0.000010       gameTune\n",
              "1  android      TN             158           0.000110       gameTune\n",
              "2  android      TN              90           0.000020       gameTune\n",
              "3  android      AE             517           0.055515         xxHigh\n",
              "4  android      AE             385           0.014300       gameTune"
            ]
          },
          "execution_count": 38,
          "metadata": {},
          "output_type": "execute_result"
        }
      ],
      "source": [
        "df_filtrer_sans_outliers_total.head()"
      ]
    },
    {
      "cell_type": "code",
      "execution_count": 39,
      "metadata": {
        "id": "G_eLvsDU2zk8"
      },
      "outputs": [],
      "source": [
        "iso_data = pd.read_csv('DataSet/countries_iso_codes.csv')"
      ]
    },
    {
      "cell_type": "code",
      "execution_count": 40,
      "metadata": {
        "colab": {
          "base_uri": "https://localhost:8080/",
          "height": 206
        },
        "id": "J0aQeXlu3HTY",
        "outputId": "720b4cd3-b344-4f8b-9b64-7e90817d8524"
      },
      "outputs": [
        {
          "data": {
            "text/html": [
              "<div>\n",
              "<style scoped>\n",
              "    .dataframe tbody tr th:only-of-type {\n",
              "        vertical-align: middle;\n",
              "    }\n",
              "\n",
              "    .dataframe tbody tr th {\n",
              "        vertical-align: top;\n",
              "    }\n",
              "\n",
              "    .dataframe thead th {\n",
              "        text-align: right;\n",
              "    }\n",
              "</style>\n",
              "<table border=\"1\" class=\"dataframe\">\n",
              "  <thead>\n",
              "    <tr style=\"text-align: right;\">\n",
              "      <th></th>\n",
              "      <th>Country</th>\n",
              "      <th>ISO Code</th>\n",
              "    </tr>\n",
              "  </thead>\n",
              "  <tbody>\n",
              "    <tr>\n",
              "      <th>0</th>\n",
              "      <td>Tunisia</td>\n",
              "      <td>TN</td>\n",
              "    </tr>\n",
              "    <tr>\n",
              "      <th>1</th>\n",
              "      <td>United Arab Emirates</td>\n",
              "      <td>AE</td>\n",
              "    </tr>\n",
              "    <tr>\n",
              "      <th>2</th>\n",
              "      <td>Argentina</td>\n",
              "      <td>AR</td>\n",
              "    </tr>\n",
              "    <tr>\n",
              "      <th>3</th>\n",
              "      <td>Australia</td>\n",
              "      <td>AU</td>\n",
              "    </tr>\n",
              "    <tr>\n",
              "      <th>4</th>\n",
              "      <td>Albania</td>\n",
              "      <td>AL</td>\n",
              "    </tr>\n",
              "  </tbody>\n",
              "</table>\n",
              "</div>"
            ],
            "text/plain": [
              "                Country ISO Code\n",
              "0               Tunisia       TN\n",
              "1  United Arab Emirates       AE\n",
              "2             Argentina       AR\n",
              "3             Australia       AU\n",
              "4               Albania       AL"
            ]
          },
          "execution_count": 40,
          "metadata": {},
          "output_type": "execute_result"
        }
      ],
      "source": [
        "iso_data.head()"
      ]
    },
    {
      "cell_type": "code",
      "execution_count": 41,
      "metadata": {
        "colab": {
          "base_uri": "https://localhost:8080/",
          "height": 206
        },
        "id": "GYxvlVdK3Jn5",
        "outputId": "1bbdcefa-9847-473d-e31b-694f9c357ac3"
      },
      "outputs": [
        {
          "data": {
            "text/html": [
              "<div>\n",
              "<style scoped>\n",
              "    .dataframe tbody tr th:only-of-type {\n",
              "        vertical-align: middle;\n",
              "    }\n",
              "\n",
              "    .dataframe tbody tr th {\n",
              "        vertical-align: top;\n",
              "    }\n",
              "\n",
              "    .dataframe thead th {\n",
              "        text-align: right;\n",
              "    }\n",
              "</style>\n",
              "<table border=\"1\" class=\"dataframe\">\n",
              "  <thead>\n",
              "    <tr style=\"text-align: right;\">\n",
              "      <th></th>\n",
              "      <th>platform</th>\n",
              "      <th>country</th>\n",
              "      <th>session_length</th>\n",
              "      <th>publisher_revenue</th>\n",
              "      <th>ab_cohort_name</th>\n",
              "      <th>Country</th>\n",
              "      <th>ISO Code</th>\n",
              "    </tr>\n",
              "  </thead>\n",
              "  <tbody>\n",
              "    <tr>\n",
              "      <th>0</th>\n",
              "      <td>android</td>\n",
              "      <td>TN</td>\n",
              "      <td>36</td>\n",
              "      <td>0.000010</td>\n",
              "      <td>gameTune</td>\n",
              "      <td>Tunisia</td>\n",
              "      <td>TN</td>\n",
              "    </tr>\n",
              "    <tr>\n",
              "      <th>1</th>\n",
              "      <td>android</td>\n",
              "      <td>TN</td>\n",
              "      <td>158</td>\n",
              "      <td>0.000110</td>\n",
              "      <td>gameTune</td>\n",
              "      <td>Tunisia</td>\n",
              "      <td>TN</td>\n",
              "    </tr>\n",
              "    <tr>\n",
              "      <th>2</th>\n",
              "      <td>android</td>\n",
              "      <td>TN</td>\n",
              "      <td>90</td>\n",
              "      <td>0.000020</td>\n",
              "      <td>gameTune</td>\n",
              "      <td>Tunisia</td>\n",
              "      <td>TN</td>\n",
              "    </tr>\n",
              "    <tr>\n",
              "      <th>3</th>\n",
              "      <td>android</td>\n",
              "      <td>AE</td>\n",
              "      <td>517</td>\n",
              "      <td>0.055515</td>\n",
              "      <td>xxHigh</td>\n",
              "      <td>United Arab Emirates</td>\n",
              "      <td>AE</td>\n",
              "    </tr>\n",
              "    <tr>\n",
              "      <th>4</th>\n",
              "      <td>android</td>\n",
              "      <td>AE</td>\n",
              "      <td>385</td>\n",
              "      <td>0.014300</td>\n",
              "      <td>gameTune</td>\n",
              "      <td>United Arab Emirates</td>\n",
              "      <td>AE</td>\n",
              "    </tr>\n",
              "  </tbody>\n",
              "</table>\n",
              "</div>"
            ],
            "text/plain": [
              "  platform country  session_length  publisher_revenue ab_cohort_name  \\\n",
              "0  android      TN              36           0.000010       gameTune   \n",
              "1  android      TN             158           0.000110       gameTune   \n",
              "2  android      TN              90           0.000020       gameTune   \n",
              "3  android      AE             517           0.055515         xxHigh   \n",
              "4  android      AE             385           0.014300       gameTune   \n",
              "\n",
              "                Country ISO Code  \n",
              "0               Tunisia       TN  \n",
              "1               Tunisia       TN  \n",
              "2               Tunisia       TN  \n",
              "3  United Arab Emirates       AE  \n",
              "4  United Arab Emirates       AE  "
            ]
          },
          "execution_count": 41,
          "metadata": {},
          "output_type": "execute_result"
        }
      ],
      "source": [
        "# Fusionnons les deux DataFrames sur la colonne ISO (supposons que la colonne 'country' dans df contient les codes ISO)\n",
        "df_merged = df_filtrer_sans_outliers_total.merge(iso_data, left_on='country', right_on='ISO Code', how='left')\n",
        "df_merged.head()\n"
      ]
    },
    {
      "cell_type": "code",
      "execution_count": 42,
      "metadata": {
        "colab": {
          "base_uri": "https://localhost:8080/",
          "height": 206
        },
        "id": "xOj8fjLC3T9g",
        "outputId": "d25c0737-2c9a-42df-8530-082f649e41dc"
      },
      "outputs": [
        {
          "data": {
            "text/html": [
              "<div>\n",
              "<style scoped>\n",
              "    .dataframe tbody tr th:only-of-type {\n",
              "        vertical-align: middle;\n",
              "    }\n",
              "\n",
              "    .dataframe tbody tr th {\n",
              "        vertical-align: top;\n",
              "    }\n",
              "\n",
              "    .dataframe thead th {\n",
              "        text-align: right;\n",
              "    }\n",
              "</style>\n",
              "<table border=\"1\" class=\"dataframe\">\n",
              "  <thead>\n",
              "    <tr style=\"text-align: right;\">\n",
              "      <th></th>\n",
              "      <th>platform</th>\n",
              "      <th>country</th>\n",
              "      <th>session_length</th>\n",
              "      <th>publisher_revenue</th>\n",
              "      <th>ab_cohort_name</th>\n",
              "    </tr>\n",
              "  </thead>\n",
              "  <tbody>\n",
              "    <tr>\n",
              "      <th>0</th>\n",
              "      <td>android</td>\n",
              "      <td>Tunisia</td>\n",
              "      <td>36</td>\n",
              "      <td>0.000010</td>\n",
              "      <td>gameTune</td>\n",
              "    </tr>\n",
              "    <tr>\n",
              "      <th>1</th>\n",
              "      <td>android</td>\n",
              "      <td>Tunisia</td>\n",
              "      <td>158</td>\n",
              "      <td>0.000110</td>\n",
              "      <td>gameTune</td>\n",
              "    </tr>\n",
              "    <tr>\n",
              "      <th>2</th>\n",
              "      <td>android</td>\n",
              "      <td>Tunisia</td>\n",
              "      <td>90</td>\n",
              "      <td>0.000020</td>\n",
              "      <td>gameTune</td>\n",
              "    </tr>\n",
              "    <tr>\n",
              "      <th>3</th>\n",
              "      <td>android</td>\n",
              "      <td>United Arab Emirates</td>\n",
              "      <td>517</td>\n",
              "      <td>0.055515</td>\n",
              "      <td>xxHigh</td>\n",
              "    </tr>\n",
              "    <tr>\n",
              "      <th>4</th>\n",
              "      <td>android</td>\n",
              "      <td>United Arab Emirates</td>\n",
              "      <td>385</td>\n",
              "      <td>0.014300</td>\n",
              "      <td>gameTune</td>\n",
              "    </tr>\n",
              "  </tbody>\n",
              "</table>\n",
              "</div>"
            ],
            "text/plain": [
              "  platform               country  session_length  publisher_revenue  \\\n",
              "0  android               Tunisia              36           0.000010   \n",
              "1  android               Tunisia             158           0.000110   \n",
              "2  android               Tunisia              90           0.000020   \n",
              "3  android  United Arab Emirates             517           0.055515   \n",
              "4  android  United Arab Emirates             385           0.014300   \n",
              "\n",
              "  ab_cohort_name  \n",
              "0       gameTune  \n",
              "1       gameTune  \n",
              "2       gameTune  \n",
              "3         xxHigh  \n",
              "4       gameTune  "
            ]
          },
          "execution_count": 42,
          "metadata": {},
          "output_type": "execute_result"
        }
      ],
      "source": [
        "# Remplaçons la colonne 'country' (code ISO) par la colonne 'country_name' (nom complet du pays)\n",
        "df_merged['country'] = df_merged['Country']\n",
        "df_merged = df_merged.drop(columns=['ISO Code', 'Country'])\n",
        "df_merged.head()\n"
      ]
    },
    {
      "cell_type": "code",
      "execution_count": 43,
      "metadata": {
        "id": "2a6RuxmQ4EHP"
      },
      "outputs": [],
      "source": [
        "region_data = pd.read_csv('DataSet/pays_region - Sheet1 (1).csv', sep=',')"
      ]
    },
    {
      "cell_type": "code",
      "execution_count": 44,
      "metadata": {
        "colab": {
          "base_uri": "https://localhost:8080/",
          "height": 206
        },
        "id": "XwCzKzlv5glm",
        "outputId": "f5b24301-a8d8-4cd6-cbe3-00f0e16214da"
      },
      "outputs": [
        {
          "data": {
            "text/html": [
              "<div>\n",
              "<style scoped>\n",
              "    .dataframe tbody tr th:only-of-type {\n",
              "        vertical-align: middle;\n",
              "    }\n",
              "\n",
              "    .dataframe tbody tr th {\n",
              "        vertical-align: top;\n",
              "    }\n",
              "\n",
              "    .dataframe thead th {\n",
              "        text-align: right;\n",
              "    }\n",
              "</style>\n",
              "<table border=\"1\" class=\"dataframe\">\n",
              "  <thead>\n",
              "    <tr style=\"text-align: right;\">\n",
              "      <th></th>\n",
              "      <th>country</th>\n",
              "      <th>region</th>\n",
              "    </tr>\n",
              "  </thead>\n",
              "  <tbody>\n",
              "    <tr>\n",
              "      <th>0</th>\n",
              "      <td>Tunisia</td>\n",
              "      <td>Africa</td>\n",
              "    </tr>\n",
              "    <tr>\n",
              "      <th>1</th>\n",
              "      <td>United Arab Emirates</td>\n",
              "      <td>Middle East</td>\n",
              "    </tr>\n",
              "    <tr>\n",
              "      <th>2</th>\n",
              "      <td>Argentina</td>\n",
              "      <td>South America</td>\n",
              "    </tr>\n",
              "    <tr>\n",
              "      <th>3</th>\n",
              "      <td>Australia</td>\n",
              "      <td>Oceania</td>\n",
              "    </tr>\n",
              "    <tr>\n",
              "      <th>4</th>\n",
              "      <td>Albania</td>\n",
              "      <td>Europe</td>\n",
              "    </tr>\n",
              "  </tbody>\n",
              "</table>\n",
              "</div>"
            ],
            "text/plain": [
              "                country         region\n",
              "0               Tunisia         Africa\n",
              "1  United Arab Emirates    Middle East\n",
              "2             Argentina  South America\n",
              "3             Australia        Oceania\n",
              "4               Albania         Europe"
            ]
          },
          "execution_count": 44,
          "metadata": {},
          "output_type": "execute_result"
        }
      ],
      "source": [
        "region_data.head()"
      ]
    },
    {
      "cell_type": "code",
      "execution_count": 45,
      "metadata": {
        "id": "O5F_FlKP5iFL"
      },
      "outputs": [],
      "source": [
        "df_merged = df_merged.merge(region_data, on='country', how='left')"
      ]
    },
    {
      "cell_type": "code",
      "execution_count": 46,
      "metadata": {
        "colab": {
          "base_uri": "https://localhost:8080/",
          "height": 206
        },
        "id": "gIAzVko88BOD",
        "outputId": "fc8d11a8-e6b2-436a-ccff-08a4621290cc"
      },
      "outputs": [
        {
          "data": {
            "text/html": [
              "<div>\n",
              "<style scoped>\n",
              "    .dataframe tbody tr th:only-of-type {\n",
              "        vertical-align: middle;\n",
              "    }\n",
              "\n",
              "    .dataframe tbody tr th {\n",
              "        vertical-align: top;\n",
              "    }\n",
              "\n",
              "    .dataframe thead th {\n",
              "        text-align: right;\n",
              "    }\n",
              "</style>\n",
              "<table border=\"1\" class=\"dataframe\">\n",
              "  <thead>\n",
              "    <tr style=\"text-align: right;\">\n",
              "      <th></th>\n",
              "      <th>platform</th>\n",
              "      <th>country</th>\n",
              "      <th>session_length</th>\n",
              "      <th>publisher_revenue</th>\n",
              "      <th>ab_cohort_name</th>\n",
              "      <th>region</th>\n",
              "    </tr>\n",
              "  </thead>\n",
              "  <tbody>\n",
              "    <tr>\n",
              "      <th>0</th>\n",
              "      <td>android</td>\n",
              "      <td>Tunisia</td>\n",
              "      <td>36</td>\n",
              "      <td>0.000010</td>\n",
              "      <td>gameTune</td>\n",
              "      <td>Africa</td>\n",
              "    </tr>\n",
              "    <tr>\n",
              "      <th>1</th>\n",
              "      <td>android</td>\n",
              "      <td>Tunisia</td>\n",
              "      <td>158</td>\n",
              "      <td>0.000110</td>\n",
              "      <td>gameTune</td>\n",
              "      <td>Africa</td>\n",
              "    </tr>\n",
              "    <tr>\n",
              "      <th>2</th>\n",
              "      <td>android</td>\n",
              "      <td>Tunisia</td>\n",
              "      <td>90</td>\n",
              "      <td>0.000020</td>\n",
              "      <td>gameTune</td>\n",
              "      <td>Africa</td>\n",
              "    </tr>\n",
              "    <tr>\n",
              "      <th>3</th>\n",
              "      <td>android</td>\n",
              "      <td>United Arab Emirates</td>\n",
              "      <td>517</td>\n",
              "      <td>0.055515</td>\n",
              "      <td>xxHigh</td>\n",
              "      <td>Middle East</td>\n",
              "    </tr>\n",
              "    <tr>\n",
              "      <th>4</th>\n",
              "      <td>android</td>\n",
              "      <td>United Arab Emirates</td>\n",
              "      <td>385</td>\n",
              "      <td>0.014300</td>\n",
              "      <td>gameTune</td>\n",
              "      <td>Middle East</td>\n",
              "    </tr>\n",
              "  </tbody>\n",
              "</table>\n",
              "</div>"
            ],
            "text/plain": [
              "  platform               country  session_length  publisher_revenue  \\\n",
              "0  android               Tunisia              36           0.000010   \n",
              "1  android               Tunisia             158           0.000110   \n",
              "2  android               Tunisia              90           0.000020   \n",
              "3  android  United Arab Emirates             517           0.055515   \n",
              "4  android  United Arab Emirates             385           0.014300   \n",
              "\n",
              "  ab_cohort_name       region  \n",
              "0       gameTune       Africa  \n",
              "1       gameTune       Africa  \n",
              "2       gameTune       Africa  \n",
              "3         xxHigh  Middle East  \n",
              "4       gameTune  Middle East  "
            ]
          },
          "execution_count": 46,
          "metadata": {},
          "output_type": "execute_result"
        }
      ],
      "source": [
        "df_merged.head()"
      ]
    },
    {
      "cell_type": "code",
      "execution_count": 47,
      "metadata": {
        "colab": {
          "base_uri": "https://localhost:8080/"
        },
        "id": "OsxwoDL78OnX",
        "outputId": "c21f4b70-94b4-497a-dc2c-d78cf0014780"
      },
      "outputs": [
        {
          "name": "stdout",
          "output_type": "stream",
          "text": [
            "          region  session_length  publisher_revenue\n",
            "4  North America      236.734846           0.028031\n",
            "5        Oceania      251.545432           0.023764\n",
            "2         Europe      263.556737           0.015654\n",
            "1           Asia      253.597977           0.015363\n",
            "3    Middle East      254.070439           0.008772\n",
            "6  South America      269.712637           0.006163\n",
            "0         Africa      276.649059           0.003783\n"
          ]
        }
      ],
      "source": [
        "# Calculons la moyenne pour chaque variable en fonction de la region\n",
        "grouped_means_region = df_merged.groupby('region').agg({\n",
        "    'session_length': 'mean',\n",
        "    'publisher_revenue': 'mean'\n",
        "}).reset_index()\n",
        "\n",
        "print(grouped_means_region.sort_values(by='publisher_revenue', ascending=False))"
      ]
    },
    {
      "cell_type": "code",
      "execution_count": 48,
      "metadata": {
        "colab": {
          "base_uri": "https://localhost:8080/",
          "height": 335
        },
        "id": "4gBe8QsR8eID",
        "outputId": "e1eb0d0e-cb81-45e8-ff96-b7549f7a797a"
      },
      "outputs": [
        {
          "data": {
            "text/plain": [
              "North America    231741\n",
              "Europe            57740\n",
              "Asia              17305\n",
              "South America     11609\n",
              "Middle East        7581\n",
              "Oceania            3973\n",
              "Africa             1912\n",
              "Name: region, dtype: int64"
            ]
          },
          "execution_count": 48,
          "metadata": {},
          "output_type": "execute_result"
        }
      ],
      "source": [
        "df_merged['region'].value_counts()"
      ]
    },
    {
      "cell_type": "code",
      "execution_count": 49,
      "metadata": {
        "colab": {
          "base_uri": "https://localhost:8080/",
          "height": 304
        },
        "id": "upqs3v05-Ozf",
        "outputId": "3a0d5c9e-27f7-459c-b7e9-e0af5e07eea4"
      },
      "outputs": [
        {
          "data": {
            "text/plain": [
              "North America    231741\n",
              "Europe            57740\n",
              "Asia              17305\n",
              "South America     11609\n",
              "Middle East        7581\n",
              "Other              5885\n",
              "Name: region_grouped, dtype: int64"
            ]
          },
          "execution_count": 49,
          "metadata": {},
          "output_type": "execute_result"
        }
      ],
      "source": [
        "# en vu de la sous représentation de l'afrique et de l'oéanie, j'ai decider de les inclures dans une catégorie 'other'\n",
        "df_merged['region_grouped'] = df_merged['region'].apply(lambda x: 'Other' if x in ['Oceania', 'Africa'] else x)\n",
        "df_merged['region_grouped'].value_counts()"
      ]
    },
    {
      "cell_type": "code",
      "execution_count": 50,
      "metadata": {
        "colab": {
          "base_uri": "https://localhost:8080/"
        },
        "id": "sjGjWtB4_aVq",
        "outputId": "86a60f61-7927-4b63-bfc2-387b939f6e09"
      },
      "outputs": [
        {
          "name": "stdout",
          "output_type": "stream",
          "text": [
            "Région: North America\n",
            "Mean: 236.73, 95% Confidence Interval: (235.80636913660953, 237.6633233217815)\n",
            "\n",
            "Région: Europe\n",
            "Mean: 263.56, 95% Confidence Interval: (261.561354728749, 265.55211946591675)\n",
            "\n",
            "Région: Other\n",
            "Mean: 259.70, 95% Confidence Interval: (253.49319791551417, 265.9096907845708)\n",
            "\n",
            "Région: Asia\n",
            "Mean: 253.60, 95% Confidence Interval: (250.00009574610058, 257.1958591802213)\n",
            "\n",
            "Région: South America\n",
            "Mean: 269.71, 95% Confidence Interval: (265.1605551088313, 274.2647183858711)\n",
            "\n",
            "Région: Middle East\n",
            "Mean: 254.07, 95% Confidence Interval: (248.64834072588704, 259.4925377861826)\n",
            "\n"
          ]
        }
      ],
      "source": [
        "import scipy.stats as stats\n",
        "\n",
        "# Liste des régions à analyser\n",
        "liste_region = ['North America', 'Europe', 'Other', 'Asia', 'South America', 'Middle East']\n",
        "\n",
        "# Boucle sur chaque région dans la liste\n",
        "for region in liste_region:\n",
        "    # Filtrer les sessions pour la région en cours\n",
        "    region_sessions = df_merged[df_merged['region_grouped'] == region]['session_length']\n",
        "\n",
        "    # Calculer la moyenne des sessions pour cette région\n",
        "    mean_region = region_sessions.mean()\n",
        "\n",
        "    # Calculer l'intervalle de confiance à 95% pour cette région\n",
        "    conf_interval_region = stats.t.interval(0.95, len(region_sessions)-1, loc=mean_region, scale=stats.sem(region_sessions))\n",
        "\n",
        "    # Afficher les résultats pour chaque région\n",
        "    print(f\"Région: {region}\")\n",
        "    print(f\"Mean: {mean_region:.2f}, 95% Confidence Interval: {conf_interval_region}\\n\")"
      ]
    },
    {
      "cell_type": "code",
      "execution_count": 51,
      "metadata": {
        "colab": {
          "base_uri": "https://localhost:8080/"
        },
        "id": "TjAW7xjWAnOG",
        "outputId": "bbc1deb8-41d7-4294-ecf0-0a28724a1445"
      },
      "outputs": [
        {
          "name": "stdout",
          "output_type": "stream",
          "text": [
            "  region_grouped  session_length  publisher_revenue\n",
            "3  North America      236.734846           0.028031\n",
            "4          Other      259.701444           0.017272\n",
            "1         Europe      263.556737           0.015654\n",
            "0           Asia      253.597977           0.015363\n",
            "2    Middle East      254.070439           0.008772\n",
            "5  South America      269.712637           0.006163\n"
          ]
        }
      ],
      "source": [
        "# Calculons la moyenne pour chaque variable en fonction de la region\n",
        "grouped_means_region = df_merged.groupby('region_grouped').agg({\n",
        "    'session_length': 'mean',\n",
        "    'publisher_revenue': 'mean'\n",
        "}).reset_index()\n",
        "\n",
        "print(grouped_means_region.sort_values(by='publisher_revenue', ascending=False))"
      ]
    }
  ],
  "metadata": {
    "colab": {
      "gpuType": "T4",
      "provenance": []
    },
    "kernelspec": {
      "display_name": "Python 3",
      "language": "python",
      "name": "python3"
    },
    "language_info": {
      "codemirror_mode": {
        "name": "ipython",
        "version": 3
      },
      "file_extension": ".py",
      "mimetype": "text/x-python",
      "name": "python",
      "nbconvert_exporter": "python",
      "pygments_lexer": "ipython3",
      "version": "3.11.1"
    },
    "vscode": {
      "interpreter": {
        "hash": "aee8b7b246df8f9039afb4144a1f6fd8d2ca17a180786b69acc140d282b71a49"
      }
    }
  },
  "nbformat": 4,
  "nbformat_minor": 0
}
